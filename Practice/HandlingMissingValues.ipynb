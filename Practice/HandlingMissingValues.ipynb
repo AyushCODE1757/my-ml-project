{
 "cells": [
  {
   "cell_type": "markdown",
   "id": "9dba162c",
   "metadata": {},
   "source": [
    "#### Handling Missing Values\n",
    "## Missing Values occur when no data is stored for a particular cell in a dataset.\n",
    "They can appear as:-\n",
    "* NaN(Not a Number).\n",
    "* None.\n",
    "* Blank string \"\".\n",
    "* Custom Marker \"?\", \"N/A\", \"null\"."
   ]
  },
  {
   "cell_type": "code",
   "execution_count": 26,
   "id": "5c0fda83",
   "metadata": {},
   "outputs": [
    {
     "name": "stdout",
     "output_type": "stream",
     "text": [
      "      Name Breathing   Age\n",
      "0   Mickey      None  21.0\n",
      "1  Rengoku      Fire  34.0\n",
      "2   Tengen     Sound   NaN\n",
      "3   Sanemi      Wind  24.0\n",
      "4   Obanai   Serpent  25.0\n",
      "5     None     Water   NaN\n"
     ]
    }
   ],
   "source": [
    "import pandas as pd\n",
    "data={'Name':['Mickey', 'Rengoku', 'Tengen', 'Sanemi', 'Obanai',None], 'Breathing':[None, 'Fire', 'Sound', 'Wind', 'Serpent','Water'],'Age':[21, 34, None, 24, 25, None]}\n",
    "df=pd.DataFrame(data)\n",
    "print(df)"
   ]
  },
  {
   "cell_type": "code",
   "execution_count": 20,
   "id": "9ba6c462",
   "metadata": {},
   "outputs": [
    {
     "name": "stdout",
     "output_type": "stream",
     "text": [
      "    Name  Breathing    Age\n",
      "0  False       True  False\n",
      "1  False      False  False\n",
      "2  False      False   True\n",
      "3  False      False  False\n",
      "4  False      False  False\n",
      "5   True      False   True\n"
     ]
    }
   ],
   "source": [
    "print(df.isnull())"
   ]
  },
  {
   "cell_type": "markdown",
   "id": "338f2693",
   "metadata": {},
   "source": []
  },
  {
   "cell_type": "code",
   "execution_count": 21,
   "id": "601b1cb3",
   "metadata": {},
   "outputs": [
    {
     "name": "stdout",
     "output_type": "stream",
     "text": [
      "Name         1\n",
      "Breathing    1\n",
      "Age          2\n",
      "dtype: int64\n"
     ]
    }
   ],
   "source": [
    "print(df.isnull().sum())"
   ]
  },
  {
   "cell_type": "markdown",
   "id": "e91b4bdb",
   "metadata": {},
   "source": [
    "#### There are three major mechanism giving rise to Missing Values"
   ]
  },
  {
   "cell_type": "markdown",
   "id": "1cde974a",
   "metadata": {},
   "source": [
    "* MCAR:- Missing Completely at Random is a mechanism in which probability of missing value is completely unrelated to both observed and missed data.\n",
    "    * The missingness is entirely random — no pattern at all.\n",
    "    * Example :- Survey data when someone accidently skipped a question.\n",
    "* MAR:- Missing At Random is a mechanism in which missingness depends on other variables and not the missing value itself.\n",
    "    * Income is missing for young people because they don't have a job and not because of income itself.\n",
    "* MNAR :- Missingness depends on the value itself.\n",
    "    * Example :- People with high income don't disclose therefore the incoem is missing due to income itself "
   ]
  },
  {
   "cell_type": "markdown",
   "id": "b97d503e",
   "metadata": {},
   "source": [
    "#### Three Major strategies to Handle Missing Values\n",
    "\n",
    "* Removing Values"
   ]
  },
  {
   "cell_type": "code",
   "execution_count": 22,
   "id": "3174140a",
   "metadata": {},
   "outputs": [
    {
     "name": "stdout",
     "output_type": "stream",
     "text": [
      "      Name Breathing   Age\n",
      "0   Mickey      None  21.0\n",
      "1  Rengoku      Fire  34.0\n",
      "2   Tengen     Sound   NaN\n",
      "3   Sanemi      Wind  24.0\n",
      "4   Obanai   Serpent  25.0\n",
      "5     None     Water   NaN\n",
      "      Name Breathing   Age\n",
      "1  Rengoku      Fire  34.0\n",
      "3   Sanemi      Wind  24.0\n",
      "4   Obanai   Serpent  25.0\n"
     ]
    }
   ],
   "source": [
    "df_cleaned = df.dropna()\n",
    "print(df)\n",
    "print(df_cleaned)"
   ]
  },
  {
   "cell_type": "markdown",
   "id": "eb35f6a1",
   "metadata": {},
   "source": [
    "* Fill with a constant"
   ]
  },
  {
   "cell_type": "code",
   "execution_count": 23,
   "id": "a3cffdaf",
   "metadata": {},
   "outputs": [
    {
     "name": "stdout",
     "output_type": "stream",
     "text": [
      "      Name Breathing   Age\n",
      "0   Mickey      None  21.0\n",
      "1  Rengoku      Fire  34.0\n",
      "2   Tengen     Sound  26.0\n",
      "3   Sanemi      Wind  24.0\n",
      "4   Obanai   Serpent  25.0\n",
      "5   Unkown     Water  26.0\n"
     ]
    },
    {
     "name": "stderr",
     "output_type": "stream",
     "text": [
      "C:\\Users\\aayus\\AppData\\Local\\Temp\\ipykernel_26800\\2233959620.py:1: FutureWarning: A value is trying to be set on a copy of a DataFrame or Series through chained assignment using an inplace method.\n",
      "The behavior will change in pandas 3.0. This inplace method will never work because the intermediate object on which we are setting values always behaves as a copy.\n",
      "\n",
      "For example, when doing 'df[col].method(value, inplace=True)', try using 'df.method({col: value}, inplace=True)' or df[col] = df[col].method(value) instead, to perform the operation inplace on the original object.\n",
      "\n",
      "\n",
      "  df['Name'].fillna(\"Unkown\", inplace=True)\n",
      "C:\\Users\\aayus\\AppData\\Local\\Temp\\ipykernel_26800\\2233959620.py:2: FutureWarning: A value is trying to be set on a copy of a DataFrame or Series through chained assignment using an inplace method.\n",
      "The behavior will change in pandas 3.0. This inplace method will never work because the intermediate object on which we are setting values always behaves as a copy.\n",
      "\n",
      "For example, when doing 'df[col].method(value, inplace=True)', try using 'df.method({col: value}, inplace=True)' or df[col] = df[col].method(value) instead, to perform the operation inplace on the original object.\n",
      "\n",
      "\n",
      "  df[\"Age\"].fillna(df['Age'].mean(), inplace=True)\n"
     ]
    }
   ],
   "source": [
    "df['Name'].fillna(\"Unkown\", inplace=True)\n",
    "df[\"Age\"].fillna(df['Age'].mean(), inplace=True)\n",
    "print(df)"
   ]
  },
  {
   "cell_type": "markdown",
   "id": "b88ef94c",
   "metadata": {},
   "source": [
    "df"
   ]
  },
  {
   "cell_type": "code",
   "execution_count": 27,
   "id": "51eef9a9",
   "metadata": {},
   "outputs": [
    {
     "data": {
      "text/html": [
       "<div>\n",
       "<style scoped>\n",
       "    .dataframe tbody tr th:only-of-type {\n",
       "        vertical-align: middle;\n",
       "    }\n",
       "\n",
       "    .dataframe tbody tr th {\n",
       "        vertical-align: top;\n",
       "    }\n",
       "\n",
       "    .dataframe thead th {\n",
       "        text-align: right;\n",
       "    }\n",
       "</style>\n",
       "<table border=\"1\" class=\"dataframe\">\n",
       "  <thead>\n",
       "    <tr style=\"text-align: right;\">\n",
       "      <th></th>\n",
       "      <th>Name</th>\n",
       "      <th>Breathing</th>\n",
       "      <th>Age</th>\n",
       "    </tr>\n",
       "  </thead>\n",
       "  <tbody>\n",
       "    <tr>\n",
       "      <th>0</th>\n",
       "      <td>Mickey</td>\n",
       "      <td>None</td>\n",
       "      <td>21.0</td>\n",
       "    </tr>\n",
       "    <tr>\n",
       "      <th>1</th>\n",
       "      <td>Rengoku</td>\n",
       "      <td>Fire</td>\n",
       "      <td>34.0</td>\n",
       "    </tr>\n",
       "    <tr>\n",
       "      <th>2</th>\n",
       "      <td>Tengen</td>\n",
       "      <td>Sound</td>\n",
       "      <td>NaN</td>\n",
       "    </tr>\n",
       "    <tr>\n",
       "      <th>3</th>\n",
       "      <td>Sanemi</td>\n",
       "      <td>Wind</td>\n",
       "      <td>24.0</td>\n",
       "    </tr>\n",
       "    <tr>\n",
       "      <th>4</th>\n",
       "      <td>Obanai</td>\n",
       "      <td>Serpent</td>\n",
       "      <td>25.0</td>\n",
       "    </tr>\n",
       "    <tr>\n",
       "      <th>5</th>\n",
       "      <td>None</td>\n",
       "      <td>Water</td>\n",
       "      <td>NaN</td>\n",
       "    </tr>\n",
       "  </tbody>\n",
       "</table>\n",
       "</div>"
      ],
      "text/plain": [
       "      Name Breathing   Age\n",
       "0   Mickey      None  21.0\n",
       "1  Rengoku      Fire  34.0\n",
       "2   Tengen     Sound   NaN\n",
       "3   Sanemi      Wind  24.0\n",
       "4   Obanai   Serpent  25.0\n",
       "5     None     Water   NaN"
      ]
     },
     "execution_count": 27,
     "metadata": {},
     "output_type": "execute_result"
    }
   ],
   "source": [
    "df"
   ]
  },
  {
   "cell_type": "code",
   "execution_count": 29,
   "id": "fc23fb0c",
   "metadata": {},
   "outputs": [
    {
     "name": "stdout",
     "output_type": "stream",
     "text": [
      "      Name Breathing   Age\n",
      "0   Mickey      None  21.0\n",
      "1  Rengoku      Fire  34.0\n",
      "2   Tengen     Sound  29.0\n",
      "3   Sanemi      Wind  24.0\n",
      "4   Obanai   Serpent  25.0\n",
      "5     None     Water  25.0\n"
     ]
    }
   ],
   "source": [
    "df['Age']=df['Age'].interpolate()\n",
    "print(df)"
   ]
  },
  {
   "cell_type": "markdown",
   "id": "7bde2285",
   "metadata": {},
   "source": [
    "* ####  Mean based imputation works well when distribution is normally distributed\n",
    "* ####  Meadian based imputation is used when there are outliers in the distributions.\n",
    "* ####  Mode based imputation is used when there are categorical values in the distribution.\n"
   ]
  },
  {
   "cell_type": "code",
   "execution_count": 34,
   "id": "7c54a6d4",
   "metadata": {},
   "outputs": [
    {
     "data": {
      "text/plain": [
       "'Fire'"
      ]
     },
     "execution_count": 34,
     "metadata": {},
     "output_type": "execute_result"
    }
   ],
   "source": [
    "df[df['Breathing'].notna()]['Breathing'].mode()[0]"
   ]
  },
  {
   "cell_type": "code",
   "execution_count": 35,
   "id": "4eae73c1",
   "metadata": {},
   "outputs": [
    {
     "data": {
      "text/html": [
       "<div>\n",
       "<style scoped>\n",
       "    .dataframe tbody tr th:only-of-type {\n",
       "        vertical-align: middle;\n",
       "    }\n",
       "\n",
       "    .dataframe tbody tr th {\n",
       "        vertical-align: top;\n",
       "    }\n",
       "\n",
       "    .dataframe thead th {\n",
       "        text-align: right;\n",
       "    }\n",
       "</style>\n",
       "<table border=\"1\" class=\"dataframe\">\n",
       "  <thead>\n",
       "    <tr style=\"text-align: right;\">\n",
       "      <th></th>\n",
       "      <th>Name</th>\n",
       "      <th>Breathing</th>\n",
       "      <th>Age</th>\n",
       "    </tr>\n",
       "  </thead>\n",
       "  <tbody>\n",
       "    <tr>\n",
       "      <th>0</th>\n",
       "      <td>Mickey</td>\n",
       "      <td>Fire</td>\n",
       "      <td>21.0</td>\n",
       "    </tr>\n",
       "    <tr>\n",
       "      <th>1</th>\n",
       "      <td>Rengoku</td>\n",
       "      <td>Fire</td>\n",
       "      <td>34.0</td>\n",
       "    </tr>\n",
       "    <tr>\n",
       "      <th>2</th>\n",
       "      <td>Tengen</td>\n",
       "      <td>Sound</td>\n",
       "      <td>29.0</td>\n",
       "    </tr>\n",
       "    <tr>\n",
       "      <th>3</th>\n",
       "      <td>Sanemi</td>\n",
       "      <td>Wind</td>\n",
       "      <td>24.0</td>\n",
       "    </tr>\n",
       "    <tr>\n",
       "      <th>4</th>\n",
       "      <td>Obanai</td>\n",
       "      <td>Serpent</td>\n",
       "      <td>25.0</td>\n",
       "    </tr>\n",
       "    <tr>\n",
       "      <th>5</th>\n",
       "      <td>None</td>\n",
       "      <td>Water</td>\n",
       "      <td>25.0</td>\n",
       "    </tr>\n",
       "  </tbody>\n",
       "</table>\n",
       "</div>"
      ],
      "text/plain": [
       "      Name Breathing   Age\n",
       "0   Mickey      Fire  21.0\n",
       "1  Rengoku      Fire  34.0\n",
       "2   Tengen     Sound  29.0\n",
       "3   Sanemi      Wind  24.0\n",
       "4   Obanai   Serpent  25.0\n",
       "5     None     Water  25.0"
      ]
     },
     "execution_count": 35,
     "metadata": {},
     "output_type": "execute_result"
    }
   ],
   "source": [
    "df['Breathing'].fillna(df[df['Breathing'].notna()]['Breathing'].mode()[0], inplace=True)\n",
    "df"
   ]
  },
  {
   "cell_type": "code",
   "execution_count": null,
   "id": "ef1eb1ac",
   "metadata": {},
   "outputs": [],
   "source": []
  }
 ],
 "metadata": {
  "kernelspec": {
   "display_name": "Python 3",
   "language": "python",
   "name": "python3"
  },
  "language_info": {
   "codemirror_mode": {
    "name": "ipython",
    "version": 3
   },
   "file_extension": ".py",
   "mimetype": "text/x-python",
   "name": "python",
   "nbconvert_exporter": "python",
   "pygments_lexer": "ipython3",
   "version": "3.12.0"
  }
 },
 "nbformat": 4,
 "nbformat_minor": 5
}
