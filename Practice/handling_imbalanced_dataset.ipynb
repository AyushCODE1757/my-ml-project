{
 "cells": [
  {
   "cell_type": "markdown",
   "id": "7f1b8ab4",
   "metadata": {},
   "source": [
    "#### Handling Imbalanced Data\n",
    "* Up Sampling \n",
    "* Down "
   ]
  },
  {
   "cell_type": "code",
   "execution_count": 1,
   "id": "baaa000a",
   "metadata": {},
   "outputs": [],
   "source": [
    "import numpy as np\n",
    "import pandas as pd\n",
    "np.random.seed(123)\n",
    "\n",
    "n_samples=1000\n",
    "class_0_ratio=0.9\n",
    "n_class_0=int(class_0_ratio*n_samples)\n",
    "n_class_1=n_samples- n_class_0"
   ]
  },
  {
   "cell_type": "code",
   "execution_count": 2,
   "id": "c9bd0cbb",
   "metadata": {},
   "outputs": [
    {
     "data": {
      "text/plain": [
       "(900, 100)"
      ]
     },
     "execution_count": 2,
     "metadata": {},
     "output_type": "execute_result"
    }
   ],
   "source": [
    "n_class_0, n_class_1"
   ]
  },
  {
   "cell_type": "markdown",
   "id": "5314f9b6",
   "metadata": {},
   "source": [
    "#### A dataset is imbalanced when the distribution of target classes is skewed "
   ]
  },
  {
   "cell_type": "code",
   "execution_count": 3,
   "id": "bb7a33cf",
   "metadata": {},
   "outputs": [
    {
     "name": "stdout",
     "output_type": "stream",
     "text": [
      "     feature1  feature2  target\n",
      "0   -1.085631  0.551302       0\n",
      "1    0.997345  0.419589       0\n",
      "2    0.282978  1.815652       0\n",
      "3   -1.506295 -0.252750       0\n",
      "4   -0.578600 -0.292004       0\n",
      "..        ...       ...     ...\n",
      "895  0.238761 -0.003155       0\n",
      "896 -1.106386 -0.430660       0\n",
      "897  0.366732 -0.146416       0\n",
      "898  1.023906  1.160176       0\n",
      "899 -0.210056 -0.641512       0\n",
      "\n",
      "[900 rows x 3 columns]\n",
      "    feature1  feature2  target\n",
      "0  -0.300232  0.139033       1\n",
      "1  -0.632261  0.025577       1\n",
      "2  -0.204317 -0.196443       1\n",
      "3   0.213696  1.312255       1\n",
      "4   1.033878  1.187417       1\n",
      "..       ...       ...     ...\n",
      "95 -0.623629  0.845701       1\n",
      "96  0.239810 -1.119923       1\n",
      "97 -0.868240 -0.359297       1\n",
      "98  0.902006 -1.609695       1\n",
      "99  0.697490  0.013570       1\n",
      "\n",
      "[100 rows x 3 columns]\n"
     ]
    }
   ],
   "source": [
    "import pandas as pd\n",
    "class_0=pd.DataFrame({\n",
    "    'feature1': np.random.normal(loc=0, scale=1, size=n_class_0), \n",
    "    'feature2': np.random.normal(loc=0, scale=1, size=n_class_0),\n",
    "    'target': [0]*n_class_0})\n",
    "class_1=pd.DataFrame({\n",
    "    'feature1': np.random.normal(loc=0, scale=1, size=n_class_1), \n",
    "    'feature2': np.random.normal(loc=0, scale=1, size=n_class_1),\n",
    "    'target': [1]*n_class_1})\n",
    "print(class_0)\n",
    "print(class_1)"
   ]
  },
  {
   "cell_type": "code",
   "execution_count": 4,
   "id": "3a3ccf1c",
   "metadata": {},
   "outputs": [
    {
     "name": "stdout",
     "output_type": "stream",
     "text": [
      "     feature1  feature2  target\n",
      "0   -1.085631  0.551302       0\n",
      "1    0.997345  0.419589       0\n",
      "2    0.282978  1.815652       0\n",
      "3   -1.506295 -0.252750       0\n",
      "4   -0.578600 -0.292004       0\n",
      "..        ...       ...     ...\n",
      "995 -0.623629  0.845701       1\n",
      "996  0.239810 -1.119923       1\n",
      "997 -0.868240 -0.359297       1\n",
      "998  0.902006 -1.609695       1\n",
      "999  0.697490  0.013570       1\n",
      "\n",
      "[1000 rows x 3 columns]\n"
     ]
    }
   ],
   "source": [
    "df= pd.concat([class_0,class_1]).reset_index(drop=True)\n",
    "print(df)"
   ]
  },
  {
   "cell_type": "code",
   "execution_count": 5,
   "id": "76761464",
   "metadata": {},
   "outputs": [
    {
     "data": {
      "text/plain": [
       "target\n",
       "0    900\n",
       "1    100\n",
       "Name: count, dtype: int64"
      ]
     },
     "execution_count": 5,
     "metadata": {},
     "output_type": "execute_result"
    }
   ],
   "source": [
    "df['target'].value_counts()"
   ]
  },
  {
   "cell_type": "markdown",
   "id": "e18c2c88",
   "metadata": {},
   "source": [
    "#### UP SAMPLING"
   ]
  },
  {
   "cell_type": "code",
   "execution_count": 13,
   "id": "3ccdd83a",
   "metadata": {},
   "outputs": [],
   "source": [
    "df_minority=df[df['target']==1]\n",
    "df_majority=df[df['target']==0]\n"
   ]
  },
  {
   "cell_type": "code",
   "execution_count": 8,
   "id": "7785a14e",
   "metadata": {},
   "outputs": [
    {
     "name": "stdout",
     "output_type": "stream",
     "text": [
      "     feature1  feature2  target\n",
      "900 -0.300232  0.139033       1\n",
      "901 -0.632261  0.025577       1\n",
      "902 -0.204317 -0.196443       1\n",
      "903  0.213696  1.312255       1\n",
      "904  1.033878  1.187417       1\n",
      "..        ...       ...     ...\n",
      "995 -0.623629  0.845701       1\n",
      "996  0.239810 -1.119923       1\n",
      "997 -0.868240 -0.359297       1\n",
      "998  0.902006 -1.609695       1\n",
      "999  0.697490  0.013570       1\n",
      "\n",
      "[100 rows x 3 columns]\n"
     ]
    },
    {
     "data": {
      "text/html": [
       "<div>\n",
       "<style scoped>\n",
       "    .dataframe tbody tr th:only-of-type {\n",
       "        vertical-align: middle;\n",
       "    }\n",
       "\n",
       "    .dataframe tbody tr th {\n",
       "        vertical-align: top;\n",
       "    }\n",
       "\n",
       "    .dataframe thead th {\n",
       "        text-align: right;\n",
       "    }\n",
       "</style>\n",
       "<table border=\"1\" class=\"dataframe\">\n",
       "  <thead>\n",
       "    <tr style=\"text-align: right;\">\n",
       "      <th></th>\n",
       "      <th>feature1</th>\n",
       "      <th>feature2</th>\n",
       "      <th>target</th>\n",
       "    </tr>\n",
       "  </thead>\n",
       "  <tbody>\n",
       "    <tr>\n",
       "      <th>951</th>\n",
       "      <td>-0.874146</td>\n",
       "      <td>-0.156083</td>\n",
       "      <td>1</td>\n",
       "    </tr>\n",
       "    <tr>\n",
       "      <th>992</th>\n",
       "      <td>0.196570</td>\n",
       "      <td>-0.602575</td>\n",
       "      <td>1</td>\n",
       "    </tr>\n",
       "    <tr>\n",
       "      <th>914</th>\n",
       "      <td>-0.067830</td>\n",
       "      <td>0.998053</td>\n",
       "      <td>1</td>\n",
       "    </tr>\n",
       "    <tr>\n",
       "      <th>971</th>\n",
       "      <td>0.272825</td>\n",
       "      <td>1.034197</td>\n",
       "      <td>1</td>\n",
       "    </tr>\n",
       "    <tr>\n",
       "      <th>960</th>\n",
       "      <td>0.870056</td>\n",
       "      <td>-0.449515</td>\n",
       "      <td>1</td>\n",
       "    </tr>\n",
       "  </tbody>\n",
       "</table>\n",
       "</div>"
      ],
      "text/plain": [
       "     feature1  feature2  target\n",
       "951 -0.874146 -0.156083       1\n",
       "992  0.196570 -0.602575       1\n",
       "914 -0.067830  0.998053       1\n",
       "971  0.272825  1.034197       1\n",
       "960  0.870056 -0.449515       1"
      ]
     },
     "execution_count": 8,
     "metadata": {},
     "output_type": "execute_result"
    }
   ],
   "source": [
    "from sklearn.utils import resample\n",
    "df_minority_upsampled = resample(df_minority, replace=True, n_samples=len(df_majority), random_state=42)\n",
    "print(df_minority)\n",
    "df_minority_upsampled.head()"
   ]
  },
  {
   "cell_type": "code",
   "execution_count": 12,
   "id": "2b6ead24",
   "metadata": {},
   "outputs": [
    {
     "data": {
      "text/plain": [
       "target\n",
       "1    900\n",
       "0    900\n",
       "Name: count, dtype: int64"
      ]
     },
     "execution_count": 12,
     "metadata": {},
     "output_type": "execute_result"
    }
   ],
   "source": [
    "df_upsampled=pd.concat([df_minority_upsampled,df_majority]).reset_index(drop=True)\n",
    "df_upsampled['target'].value_counts()"
   ]
  },
  {
   "cell_type": "code",
   "execution_count": 15,
   "id": "acfb2561",
   "metadata": {},
   "outputs": [
    {
     "name": "stdout",
     "output_type": "stream",
     "text": [
      "target\n",
      "0    100\n",
      "1    100\n",
      "Name: count, dtype: int64\n"
     ]
    }
   ],
   "source": [
    "df_majority_downsampled=resample(df_majority, replace=False, n_samples=len(df_minority), random_state=42)\n",
    "df_downsampled=pd.concat([df_majority_downsampled,df_minority], ignore_index=True)\n",
    "print(df_downsampled['target'].value_counts())\n"
   ]
  },
  {
   "cell_type": "code",
   "execution_count": null,
   "id": "9049ece8",
   "metadata": {},
   "outputs": [],
   "source": []
  }
 ],
 "metadata": {
  "kernelspec": {
   "display_name": "Python 3",
   "language": "python",
   "name": "python3"
  },
  "language_info": {
   "codemirror_mode": {
    "name": "ipython",
    "version": 3
   },
   "file_extension": ".py",
   "mimetype": "text/x-python",
   "name": "python",
   "nbconvert_exporter": "python",
   "pygments_lexer": "ipython3",
   "version": "3.12.0"
  }
 },
 "nbformat": 4,
 "nbformat_minor": 5
}
